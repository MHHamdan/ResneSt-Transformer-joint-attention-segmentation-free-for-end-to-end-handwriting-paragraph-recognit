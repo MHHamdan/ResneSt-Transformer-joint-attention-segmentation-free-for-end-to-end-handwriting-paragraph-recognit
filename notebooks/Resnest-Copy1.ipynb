{
 "cells": [
  {
   "cell_type": "code",
   "execution_count": 1,
   "id": "1e22980e",
   "metadata": {},
   "outputs": [
    {
     "name": "stdout",
     "output_type": "stream",
     "text": [
      "/home/mhamdan/seq2seqAttenHTR/Transformer_ocr/src\n"
     ]
    }
   ],
   "source": [
    "%cd src/\n",
    "from pathlib import Path\n",
    "import numpy as np\n",
    "import math\n",
    "from itertools import groupby\n",
    "import h5py\n",
    "import numpy as np\n",
    "import unicodedata\n",
    "import cv2\n",
    "import torch\n",
    "from torch import nn\n",
    "from torchvision.models import resnet50, resnet101, resnet34, resnet18\n",
    "from torch.autograd import Variable\n",
    "import torchvision\n",
    "from data import preproc as pp\n",
    "from data import evaluation\n",
    "from torch.utils.data import Dataset\n",
    "import time\n",
    "import timm\n",
    "import torch\n",
    "\n",
    "\n",
    "\n",
    "class PositionalEncoding(nn.Module):\n",
    "    def __init__(self, d_model, dropout=0.1, max_len=128):\n",
    "        super(PositionalEncoding, self).__init__()\n",
    "        self.dropout = nn.Dropout(p=dropout)\n",
    "\n",
    "        pe = torch.zeros(max_len, d_model)\n",
    "        position = torch.arange(0, max_len, dtype=torch.float).unsqueeze(1)\n",
    "        div_term = torch.exp(torch.arange(0, d_model, 2).float() * (-math.log(10000.0) / d_model))\n",
    "        pe[:, 0::2] = torch.sin(position * div_term)\n",
    "        pe[:, 1::2] = torch.cos(position * div_term)\n",
    "        pe = pe.unsqueeze(0).transpose(0, 1)\n",
    "        self.register_buffer('pe', pe)\n",
    "\n",
    "    def forward(self, x):\n",
    "        x = x + self.pe[:x.size(0), :]\n",
    "        return self.dropout(x)\n",
    "\n",
    "class OCR(nn.Module):\n",
    "\n",
    "    def __init__(self, vocab_len, hidden_dim, nheads,\n",
    "                 num_encoder_layers, num_decoder_layers):\n",
    "        super().__init__()\n",
    "    \n",
    "#         self.backbone = timm.create_model('ecaresnet101d', pretrained=True,)\n",
    "#         del self.backbone.fc\n",
    "        self.backbone = timm.create_model('resnest101e', pretrained=False)\n",
    "#         self.backbone = timm.create_model('resnest101e', pretrained=args.pretrained)\n",
    "        del self.backbone.fc\n",
    "#         for name,p in self.backbone.named_parameters():\n",
    "#             if \"bn\" not in name or \"attnpool\" in name:\n",
    "#                 p.requires_grad =  FalseFalse\n",
    "\n",
    "        # create a default PyTorch transformer\n",
    "        # create conversion layer\n",
    "        self.conv = nn.Conv2d(2048, hidden_dim, 1)\n",
    "\n",
    "        # create a default PyTorch transformer\n",
    "        self.transformer = nn.Transformer(\n",
    "            hidden_dim, nheads, num_encoder_layers, num_decoder_layers)\n",
    "\n",
    "        # prediction heads with length of vocab\n",
    "        # DETR used basic 3 layer MLP for output\n",
    "        self.vocab = nn.Linear(hidden_dim,vocab_len)\n",
    "\n",
    "        # output positional encodings (object queries)\n",
    "        self.decoder = nn.Embedding(vocab_len, hidden_dim)\n",
    "        self.query_pos = PositionalEncoding(hidden_dim, .2)\n",
    "\n",
    "        # spatial positional encodings, sine positional encoding can be used.\n",
    "        # Detr baseline uses sine positional encoding.\n",
    "        self.row_embed = nn.Parameter(torch.rand(90, hidden_dim // 2))\n",
    "        self.col_embed = nn.Parameter(torch.rand(90, hidden_dim // 2))\n",
    "        self.trg_mask = None\n",
    "  \n",
    "    def generate_square_subsequent_mask(self, sz):\n",
    "        mask = torch.triu(torch.ones(sz, sz), 1)\n",
    "        mask = mask.masked_fill(mask==1, float('-inf'))\n",
    "        return mask\n",
    "    \n",
    "#     def get_feature(self,x):\n",
    "#             x = self.backbone.conv_stem(x)\n",
    "#             x = self.backbone.bn1(x)   \n",
    "#             x = self.backbone.act1(x)\n",
    "#             x = self.backbone.blocks(x)\n",
    "#             return x\n",
    "\n",
    "    def get_feature(self,x):\n",
    "        x = self.backbone.conv1(x)\n",
    "        x = self.backbone.bn1(x)   \n",
    "        x = self.backbone.act1(x)\n",
    "        x = self.backbone.maxpool(x)\n",
    "\n",
    "        x = self.backbone.layer1(x)\n",
    "        x = self.backbone.layer2(x)\n",
    "        x = self.backbone.layer3(x)\n",
    "        x = self.backbone.layer4(x)\n",
    "        return x\n",
    "\n",
    "#     def get_feature(self, x):\n",
    "#         x = self.backbone.forward_features(x)\n",
    "#         return x\n",
    "\n",
    "\n",
    "    def make_len_mask(self, inp):\n",
    "        return (inp == 0).transpose(0, 1)\n",
    "\n",
    "\n",
    "    def forward(self, inputs, trg):\n",
    "        # propagate inputs through ResNet-101 up to avg-pool layer\n",
    "        x = self.get_feature(inputs)\n",
    "\n",
    "        # convert from 2048 to 256 feature planes for the transformer\n",
    "        h = self.conv(x)\n",
    "\n",
    "        # construct positional encodings\n",
    "        bs,_,H, W = h.shape\n",
    "        pos = torch.cat([\n",
    "            self.col_embed[:W].unsqueeze(0).repeat(H, 1, 1),\n",
    "            self.row_embed[:H].unsqueeze(1).repeat(1, W, 1),\n",
    "        ], dim=-1).flatten(0, 1).unsqueeze(1)\n",
    "\n",
    "        # generating subsequent mask for target\n",
    "        if self.trg_mask is None or self.trg_mask.size(0) != len(trg):\n",
    "            self.trg_mask = self.generate_square_subsequent_mask(trg.shape[1]).to(trg.device)\n",
    "\n",
    "        # Padding mask\n",
    "        trg_pad_mask = self.make_len_mask(trg)\n",
    "\n",
    "        # Getting postional encoding for target\n",
    "        trg = self.decoder(trg)\n",
    "        trg = self.query_pos(trg)\n",
    "        \n",
    "        output = self.transformer(pos + 0.1 * h.flatten(2).permute(2, 0, 1), trg.permute(1,0,2), tgt_mask=self.trg_mask, \n",
    "                                  tgt_key_padding_mask=trg_pad_mask.permute(1,0))\n",
    "\n",
    "        return self.vocab(output.transpose(0,1))\n",
    "\n",
    "\n",
    "def make_model(vocab_len, hidden_dim=256, nheads=4,\n",
    "                 num_encoder_layers=4, num_decoder_layers=4):\n",
    "    \n",
    "    return OCR(vocab_len, hidden_dim, nheads,\n",
    "                 num_encoder_layers, num_decoder_layers)\n",
    "\n",
    "\"\"\"\n",
    "Uses generator functions to supply train/test with data.\n",
    "Image renderings and text are created on the fly each time.\n",
    "\"\"\"\n",
    "\n",
    "class DataGenerator(Dataset):\n",
    "    \"\"\"Generator class with data streaming\"\"\"\n",
    "\n",
    "    def __init__(self, source, split, transform, tokenizer):\n",
    "        self.tokenizer = tokenizer\n",
    "        self.transform = transform\n",
    "        \n",
    "        self.split = split\n",
    "        self.dataset = dict()\n",
    "\n",
    "        with h5py.File(source, \"r\") as f:\n",
    "            self.dataset[self.split] = dict()\n",
    "\n",
    "            self.dataset[self.split]['dt'] = np.array(f[self.split]['dt'])\n",
    "            self.dataset[self.split]['gt'] = np.array(f[self.split]['gt'])\n",
    "          \n",
    "            randomize = np.arange(len(self.dataset[self.split]['gt']))\n",
    "            np.random.seed(42)\n",
    "            np.random.shuffle(randomize)\n",
    "\n",
    "            self.dataset[self.split]['dt'] = self.dataset[self.split]['dt'][randomize]\n",
    "            self.dataset[self.split]['gt'] = self.dataset[self.split]['gt'][randomize]\n",
    "\n",
    "            # decode sentences from byte\n",
    "            self.dataset[self.split]['gt'] = [x.decode() for x in self.dataset[self.split]['gt']]\n",
    "            \n",
    "        self.size = len(self.dataset[self.split]['gt'])\n",
    "\n",
    "\n",
    "    def __getitem__(self, i):\n",
    "        img = self.dataset[self.split]['dt'][i]\n",
    "        \n",
    "        #making image compatible with resnet\n",
    "#         img = cv2.transpose(img)\n",
    "        img = np.repeat(img[..., np.newaxis],3, -1).astype(\"float32\")   \n",
    "#         img = pp.normalization(img).astype(\"float32\")\n",
    "\n",
    "        if self.transform is not None:\n",
    "            aug = self.transform(image=img)\n",
    "            img = aug['image']\n",
    "            \n",
    "#             img = self.transform(img)\n",
    "            \n",
    "        y_train = self.tokenizer.encode(self.dataset[self.split]['gt'][i]) \n",
    "        \n",
    "        #padding till max length\n",
    "        y_train = np.pad(y_train, (0, self.tokenizer.maxlen - len(y_train)))\n",
    "\n",
    "        gt = torch.Tensor(y_train)\n",
    "\n",
    "        return img, gt          \n",
    "\n",
    "    def __len__(self):\n",
    "      return self.size\n",
    "\n",
    "class Tokenizer():\n",
    "    \"\"\"Manager tokens functions and charset/dictionary properties\"\"\"\n",
    "\n",
    "    def __init__(self, chars, max_text_length=128):\n",
    "        self.PAD_TK, self.UNK_TK,self.SOS,self.EOS = \"¶\", \"¤\", \"SOS\", \"EOS\"\n",
    "        self.chars = [self.PAD_TK] + [self.UNK_TK ]+ [self.SOS] + [self.EOS] +list(chars)\n",
    "        self.PAD = self.chars.index(self.PAD_TK)\n",
    "        self.UNK = self.chars.index(self.UNK_TK)\n",
    "\n",
    "        self.vocab_size = len(self.chars)\n",
    "        self.maxlen = max_text_length\n",
    "\n",
    "    def encode(self, text):\n",
    "        \"\"\"Encode text to vector\"\"\"\n",
    "        text = unicodedata.normalize(\"NFKD\", text).encode(\"ASCII\", \"ignore\").decode(\"ASCII\")\n",
    "        text = \" \".join(text.split())\n",
    "\n",
    "        groups = [\"\".join(group) for _, group in groupby(text)]\n",
    "        text = \"\".join([self.UNK_TK.join(list(x)) if len(x) > 1 else x for x in groups])\n",
    "        encoded = []\n",
    "\n",
    "        text = ['SOS'] + list(text) + ['EOS']\n",
    "        for item in text:\n",
    "            index = self.chars.index(item)\n",
    "            index = self.UNK if index == -1 else index\n",
    "            encoded.append(index)\n",
    "\n",
    "        return np.asarray(encoded)\n",
    "\n",
    "    def decode(self, text):\n",
    "        \"\"\"Decode vector to text\"\"\"\n",
    "        \n",
    "        decoded = \"\".join([self.chars[int(x)] for x in text if x > -1])\n",
    "        decoded = self.remove_tokens(decoded)\n",
    "        decoded = pp.text_standardize(decoded)\n",
    "\n",
    "        return decoded\n",
    "\n",
    "    def remove_tokens(self, text):\n",
    "        \"\"\"Remove tokens (PAD) from text\"\"\"\n",
    "\n",
    "        return text.replace(self.PAD_TK, \"\").replace(self.UNK_TK, \"\")"
   ]
  },
  {
   "cell_type": "code",
   "execution_count": 2,
   "id": "783faa8a",
   "metadata": {},
   "outputs": [
    {
     "name": "stdout",
     "output_type": "stream",
     "text": [
      "source: ../data/bentham_only_cursive.hdf5\n",
      "output ../output/bentham_only_cursive\n",
      "target ../output/bentham_only_cursive/checkpoint_weights_iam_dsa.hdf5\n",
      "charset: 0123456789abcdefghijklmnopqrstuvwxyzABCDEFGHIJKLMNOPQRSTUVWXYZ!\"#$%&'()*+,-./:;<=>?@[\\]^_`{|}~ \n"
     ]
    }
   ],
   "source": [
    "import os\n",
    "import datetime\n",
    "import string\n",
    "\n",
    "batch_size = 16\n",
    "epochs = 200\n",
    "\n",
    "# define paths\n",
    "#change paths accordingly\n",
    "source = 'bentham_only_cursive'\n",
    "source_path = '../data/{}.hdf5'.format(source)\n",
    "output_path = os.path.join(\"..\", \"output\", source)\n",
    "target_path = os.path.join(output_path, \"checkpoint_weights_iam_{}.hdf5\".format(\"dsa\"))\n",
    "os.makedirs(output_path, exist_ok=True)\n",
    "\n",
    "# define input size, number max of chars per line and list of valid chars\n",
    "input_size = (1024, 128, 1)\n",
    "max_text_length = 128\n",
    "charset_base = string.printable[:95]\n",
    "# charset_base = string.printable[:36].lower() + string.printable[36+26:95].lower() \n",
    "\n",
    "print(\"source:\", source_path)\n",
    "print(\"output\", output_path)\n",
    "print(\"target\", target_path)\n",
    "print(\"charset:\", charset_base)\n",
    "\n",
    "import torchvision.transforms as T\n",
    "local_rank = 0\n",
    "device = torch.device(\"cuda:{}\".format(local_rank))\n",
    "\n",
    "# transform = T.Compose([\n",
    "#     T.ToTensor()])\n",
    "tokenizer = Tokenizer(charset_base)\n",
    "import albumentations\n",
    "import albumentations.pytorch\n",
    "\n",
    "\n",
    "\n",
    "transform_valid = albumentations.Compose(\n",
    "    [\n",
    "        albumentations.Normalize(),\n",
    "        albumentations.pytorch.ToTensorV2()\n",
    "    ]\n",
    ")"
   ]
  },
  {
   "cell_type": "code",
   "execution_count": 3,
   "id": "f8f5cbbe",
   "metadata": {},
   "outputs": [],
   "source": [
    "tokenizer = Tokenizer(charset_base)"
   ]
  },
  {
   "cell_type": "code",
   "execution_count": 4,
   "id": "80d231b4",
   "metadata": {},
   "outputs": [],
   "source": [
    "model = make_model( vocab_len=tokenizer.vocab_size,hidden_dim=256, nheads=4,\n",
    "                 num_encoder_layers=4, num_decoder_layers=4)"
   ]
  },
  {
   "cell_type": "code",
   "execution_count": 16,
   "id": "154fd234",
   "metadata": {
    "scrolled": true
   },
   "outputs": [],
   "source": [
    "_ = model.to(device)"
   ]
  },
  {
   "cell_type": "code",
   "execution_count": 6,
   "id": "da4963b1",
   "metadata": {},
   "outputs": [],
   "source": [
    "model_name = \"fiery-caress-207\"\n",
    "databse = source"
   ]
  },
  {
   "cell_type": "code",
   "execution_count": 59,
   "id": "7dbd62e4",
   "metadata": {
    "scrolled": true
   },
   "outputs": [],
   "source": [
    "d = torch.load(\"/home/mhamdan/seq2seqAttenHTR/Transformer_ocr/output/{}/{}_first_100.pt\".format(model_name,databse), map_location=\"cuda:0\")\n",
    "d1 = torch.load(\"/home/mhamdan/seq2seqAttenHTR/Transformer_ocr/output/{}/{}_first_190.pt\".format(model_name,databse), map_location=\"cuda:0\")"
   ]
  },
  {
   "cell_type": "code",
   "execution_count": 60,
   "id": "32fdc0c7",
   "metadata": {},
   "outputs": [],
   "source": [
    "beta = 0.5 #The interpolation parameter    \n",
    "params1 = d\n",
    "params2 = d1\n",
    " \n",
    "dict_params2 = params2\n",
    " \n",
    "for name1, param1 in params1.items():\n",
    "    if name1 in dict_params2:\n",
    "        dict_params2[name1].data.copy_(beta*param1.data + (1-beta)*dict_params2[name1].data)"
   ]
  },
  {
   "cell_type": "code",
   "execution_count": 61,
   "id": "2d2ecb62",
   "metadata": {},
   "outputs": [
    {
     "data": {
      "text/plain": [
       "<All keys matched successfully>"
      ]
     },
     "execution_count": 61,
     "metadata": {},
     "output_type": "execute_result"
    }
   ],
   "source": [
    "model.load_state_dict(dict_params2)"
   ]
  },
  {
   "cell_type": "code",
   "execution_count": 10,
   "id": "db4bd4f9",
   "metadata": {
    "scrolled": true
   },
   "outputs": [
    {
     "data": {
      "text/plain": [
       "<All keys matched successfully>"
      ]
     },
     "execution_count": 10,
     "metadata": {},
     "output_type": "execute_result"
    }
   ],
   "source": [
    "d1 = torch.load(\"/home/mhamdan/seq2seqAttenHTR/Transformer_ocr/output/{}/{}_firstbest_loss.pt\".format(model_name,databse), map_location=\"cpu\")\n",
    "model.load_state_dict(d1)"
   ]
  },
  {
   "cell_type": "code",
   "execution_count": 14,
   "id": "8f6193c6",
   "metadata": {},
   "outputs": [],
   "source": [
    "device = \"cpu\""
   ]
  },
  {
   "cell_type": "code",
   "execution_count": 20,
   "id": "50b50345",
   "metadata": {},
   "outputs": [],
   "source": [
    "def get_memory(model,imgs):\n",
    "    x = model.conv(model.get_feature(imgs))\n",
    "    bs,_,H, W = x.shape\n",
    "    pos = torch.cat([\n",
    "            model.col_embed[:W].unsqueeze(0).repeat(H, 1, 1),\n",
    "            model.row_embed[:H].unsqueeze(1).repeat(1, W, 1),\n",
    "        ], dim=-1).flatten(0, 1).unsqueeze(1)\n",
    "\n",
    "    return model.transformer.encoder(pos +  0.1 * x.flatten(2).permute(2, 0, 1))\n",
    "    \n",
    "\n",
    "def test(model, test_loader, max_text_length):\n",
    "    model.eval()\n",
    "    predicts = []\n",
    "    gt = []\n",
    "    imgs = []\n",
    "    c=0\n",
    "    with torch.no_grad():\n",
    "        for batch in test_loader:\n",
    "            src, trg = batch\n",
    "            imgs.append(src.flatten(0,1))\n",
    "            src, trg = src.to(device), trg.to(device)            \n",
    "            memory = get_memory(model,src.float())\n",
    "            out_indexes = [tokenizer.chars.index('SOS'), ]\n",
    "            for i in range(max_text_length):\n",
    "                mask = model.generate_square_subsequent_mask(i+1).to(device)\n",
    "                trg_tensor = torch.LongTensor(out_indexes).unsqueeze(1).to(device)\n",
    "                output = model.vocab(model.transformer.decoder(model.query_pos(model.decoder(trg_tensor)), memory,tgt_mask=mask))\n",
    "                out_token = output.argmax(2)[-1].item()\n",
    "                out_indexes.append(out_token)\n",
    "                if out_token == tokenizer.chars.index('EOS'):\n",
    "                    break\n",
    "            predicts.append(tokenizer.decode(out_indexes))\n",
    "            gt.append(tokenizer.decode(trg.flatten(0,1)))\n",
    "            if c==4:\n",
    "                break\n",
    "            c+=1\n",
    "    return predicts, gt, imgs"
   ]
  },
  {
   "cell_type": "code",
   "execution_count": 12,
   "id": "d1865a19",
   "metadata": {},
   "outputs": [],
   "source": [
    "test_loader = torch.utils.data.DataLoader(DataGenerator(source_path,'test',transform_valid, tokenizer), batch_size=1, shuffle=False, num_workers=6)"
   ]
  },
  {
   "cell_type": "code",
   "execution_count": 21,
   "id": "069b62fb",
   "metadata": {
    "scrolled": true
   },
   "outputs": [],
   "source": [
    "predicts, gt, imgs = test(model,test_loader , max_text_length)"
   ]
  },
  {
   "cell_type": "code",
   "execution_count": 22,
   "id": "04dec56a",
   "metadata": {},
   "outputs": [],
   "source": [
    "predicts = list(map(lambda x : x.replace('SOS','').replace('EOS',''),predicts))\n",
    "gt = list(map(lambda x : x.replace('SOS','').replace('EOS',''),gt))\n",
    "\n",
    "evaluate = evaluation.ocr_metrics(predicts=predicts,\n",
    "                                  ground_truth=gt,)"
   ]
  },
  {
   "cell_type": "code",
   "execution_count": 23,
   "id": "7c4d45df",
   "metadata": {},
   "outputs": [
    {
     "data": {
      "text/plain": [
       "['His faith , his hope , his charity , do they not all',\n",
       " 'obstacle might till then have been opposed as such to his excape',\n",
       " 'liminary Oxtor which a man has occasion to perform , and',\n",
       " 'power that the state of which the party injured is a',\n",
       " 'perations']"
      ]
     },
     "execution_count": 23,
     "metadata": {},
     "output_type": "execute_result"
    }
   ],
   "source": [
    "predicts"
   ]
  },
  {
   "cell_type": "code",
   "execution_count": 24,
   "id": "6484d66c",
   "metadata": {},
   "outputs": [
    {
     "data": {
      "text/plain": [
       "['This faith , his hope , his charity , do they not all',\n",
       " 'obstacle might till then have been opposed as such to his escape . ',\n",
       " 'liminary Acts which a man has occasion to perform , and',\n",
       " 'power that the state of which the party injured is a',\n",
       " 'operations']"
      ]
     },
     "execution_count": 24,
     "metadata": {},
     "output_type": "execute_result"
    }
   ],
   "source": [
    "gt"
   ]
  },
  {
   "cell_type": "code",
   "execution_count": 64,
   "id": "aad50f79",
   "metadata": {},
   "outputs": [
    {
     "data": {
      "text/plain": [
       "array([0.04986915, 0.12978975, 0.53140704])"
      ]
     },
     "execution_count": 64,
     "metadata": {},
     "output_type": "execute_result"
    }
   ],
   "source": [
    "evaluate"
   ]
  },
  {
   "cell_type": "code",
   "execution_count": 49,
   "id": "ce77cb05",
   "metadata": {},
   "outputs": [
    {
     "data": {
      "text/plain": [
       "array([0.04939796, 0.13065369, 0.53894472])"
      ]
     },
     "execution_count": 49,
     "metadata": {},
     "output_type": "execute_result"
    }
   ],
   "source": [
    "evaluate"
   ]
  },
  {
   "cell_type": "code",
   "execution_count": null,
   "id": "4e68fe2e",
   "metadata": {},
   "outputs": [],
   "source": []
  },
  {
   "cell_type": "code",
   "execution_count": 38,
   "id": "817315dd",
   "metadata": {},
   "outputs": [
    {
     "data": {
      "text/plain": [
       "array([0.80173698, 0.93165775, 1.        ])"
      ]
     },
     "execution_count": 38,
     "metadata": {},
     "output_type": "execute_result"
    }
   ],
   "source": [
    "evaluate"
   ]
  },
  {
   "cell_type": "code",
   "execution_count": 43,
   "id": "2e059db5",
   "metadata": {},
   "outputs": [
    {
     "data": {
      "text/plain": [
       "array([0.72955912, 0.90681278, 1.        ])"
      ]
     },
     "execution_count": 43,
     "metadata": {},
     "output_type": "execute_result"
    }
   ],
   "source": [
    "evaluate"
   ]
  },
  {
   "cell_type": "code",
   "execution_count": 32,
   "id": "2f2e9399",
   "metadata": {},
   "outputs": [],
   "source": [
    "from PIL import Image, ImageOps\n",
    "import numpy as np\n",
    "\n",
    "\"\"\"\n",
    "Creates an augmented image by applying Random warp grid distortion.\n",
    "This is based on/inspired by\n",
    "Wigington, Curtis, et al. \n",
    "\"Data Augmentation for Recognition of Handwritten Words and Lines Using a CNN-LSTM Network.\" \n",
    "Document Analysis and Recognition (ICDAR), 2017 14th IAPR International Conference on. \n",
    "Vol. 1. IEEE, 2017.\n",
    "\"\"\"\n",
    "\n",
    "class GD(object):\n",
    "    def __init__(self, prob=0.7, gridsize=(26, 26), deviation=1.7):\n",
    "        self.probability = prob\n",
    "        self.gridsize = gridsize\n",
    "        self.deviation = deviation\n",
    "\n",
    "    def __call__(self, sample):\n",
    "        image = sample\n",
    "        if np.random.rand() < self.probability:\n",
    "            image = _warp(image, self.gridsize, self.deviation)\n",
    "        return image\n",
    "\n",
    "def RandomWarpGridDistortion(images, count, gridsize, deviation):\n",
    "    new_images = []\n",
    "    for image in images:\n",
    "        new_images.extend([_warp(image, gridsize, deviation)\n",
    "                           for i in range(count)])\n",
    "    images.extend(new_images)\n",
    "    return images\n",
    "\n",
    "\n",
    "def _warp(img, gridsize=None, deviation=None, mat=None, return_mat=False):\n",
    "    gridsize = gridsize or (26, 26)\n",
    "    deviation = deviation or 10\n",
    "    (w, h) = img.size\n",
    "\n",
    "    num_x = w // gridsize[0] + 1\n",
    "    num_y = h // gridsize[1] + 1\n",
    "\n",
    "    mat = mat if mat is not None else np.random.normal(\n",
    "        scale=deviation, size=(num_y + 1, num_x + 1, 2))\n",
    "\n",
    "    mesh = []\n",
    "    for x in range(num_x):\n",
    "        for y in range(num_y):\n",
    "            target = (x * gridsize[0], y * gridsize[0],\n",
    "                      (x + 1) * gridsize[0], (y + 1) * gridsize[0])\n",
    "            nw_y = y * gridsize[0] + mat[y, x, 0]\n",
    "            nw_x = x * gridsize[0] + mat[y, x, 1]\n",
    "\n",
    "            sw_y = (y + 1) * gridsize[0] + mat[y + 1, x, 0]\n",
    "            sw_x = x * gridsize[0] + mat[y + 1, x, 1]\n",
    "\n",
    "            se_y = (y + 1) * gridsize[0] + mat[y + 1, x + 1, 0]\n",
    "            se_x = (x + 1) * gridsize[0] + mat[y + 1, x + 1, 1]\n",
    "\n",
    "            ne_y = y * gridsize[0] + mat[y, x + 1, 0]\n",
    "            ne_x = (x + 1) * gridsize[0] + mat[y, x + 1, 1]\n",
    "\n",
    "            source = (nw_x, nw_y, sw_x, sw_y, se_x, se_y, ne_x, ne_y)\n",
    "\n",
    "            mesh.append((target, source))\n",
    "\n",
    "    img_transformed = img.transform(\n",
    "        img.size,\n",
    "        method=Image.MESH,\n",
    "        data=mesh,\n",
    "        fillcolor=255)\n",
    "\n",
    "    if return_mat:\n",
    "        return img_transformed, mat\n",
    "    else:\n",
    "        return img_transformed"
   ]
  },
  {
   "cell_type": "code",
   "execution_count": 13,
   "id": "53d5cd99",
   "metadata": {},
   "outputs": [],
   "source": [
    "im = Image.open(\"../raw/iam/lines/b01/b01-000/b01-000-00.png\")"
   ]
  },
  {
   "cell_type": "code",
   "execution_count": 52,
   "id": "b5f2d540",
   "metadata": {},
   "outputs": [
    {
     "data": {
      "text/plain": [
       "<bound method Image.transpose of <PIL.PngImagePlugin.PngImageFile image mode=L size=1620x85 at 0x7F87F3C10B20>>"
      ]
     },
     "execution_count": 52,
     "metadata": {},
     "output_type": "execute_result"
    }
   ],
   "source": [
    "im.transpose"
   ]
  },
  {
   "cell_type": "code",
   "execution_count": 69,
   "id": "b035b8d6",
   "metadata": {},
   "outputs": [],
   "source": [
    "gg = _warp(Image.fromarray(cv2.transpose(np.array(im))), deviation=2.7)"
   ]
  },
  {
   "cell_type": "code",
   "execution_count": 70,
   "id": "b700af47",
   "metadata": {
    "scrolled": true
   },
   "outputs": [
    {
     "data": {
      "image/png": "[encoded data removed]",
      "text/plain": [
       "<PIL.Image.Image image mode=L size=85x1620 at 0x7F89CA01F430>"
      ]
     },
     "execution_count": 70,
     "metadata": {},
     "output_type": "execute_result"
    }
   ],
   "source": [
    "gg"
   ]
  },
  {
   "cell_type": "code",
   "execution_count": 38,
   "id": "7ad10a63",
   "metadata": {},
   "outputs": [
    {
     "data": {
      "image/png": "[encoded data removed]",
      "text/plain": [
       "<PIL.PngImagePlugin.PngImageFile image mode=L size=1620x85 at 0x7FA5DFD67430>"
      ]
     },
     "execution_count": 38,
     "metadata": {},
     "output_type": "execute_result"
    }
   ],
   "source": [
    "im"
   ]
  },
  {
   "cell_type": "code",
   "execution_count": 70,
   "id": "4f6aa629",
   "metadata": {},
   "outputs": [],
   "source": [
    "img = pp.preprocess(\"../raw/iam/lines/b01/b01-000/b01-000-00.png\", input_size=(1024,128,1))"
   ]
  },
  {
   "cell_type": "code",
   "execution_count": 67,
   "id": "b871e8c1",
   "metadata": {},
   "outputs": [],
   "source": [
    "def pre(path, input_size):\n",
    "    img = cv2.imread(path, cv2.IMREAD_UNCHANGED)\n",
    "    wt, ht, _ = input_size\n",
    "    h, w = img.shape\n",
    "    f = max((w / wt), (h / ht))\n",
    "    new_size = (max(min(wt, int(w / f)), 1), max(min(ht, int(h / f)), 1))\n",
    "\n",
    "    img = cv2.resize(img, new_size)\n",
    "    img = pp.illumination_compensation(img)\n",
    "    img = pp.remove_cursive_style(img)\n",
    "    img = cv2.resize(img, new_size)\n",
    "    target = np.ones([ht, wt], dtype=np.uint8) * 255\n",
    "    target[0:new_size[1], 0:new_size[0]] = img\n",
    "    return target"
   ]
  },
  {
   "cell_type": "code",
   "execution_count": 68,
   "id": "e549809a",
   "metadata": {},
   "outputs": [],
   "source": [
    "img = pre(\"../raw/iam/lines/b01/b01-000/b01-000-00.png\", input_size=(1024,128,1))"
   ]
  },
  {
   "cell_type": "code",
   "execution_count": 30,
   "id": "89b3bf63",
   "metadata": {},
   "outputs": [],
   "source": [
    "dataset = {}\n",
    "with h5py.File(\"../data/bentham.hdf5\", \"r\") as f:\n",
    "    dataset[\"valid\"] = dict()\n",
    "\n",
    "    dataset[\"valid\"]['dt'] = np.array(f[\"valid\"]['dt'])\n",
    "    dataset[\"valid\"]['gt'] = np.array(f[\"valid\"]['gt'])\n"
   ]
  },
  {
   "cell_type": "code",
   "execution_count": 39,
   "id": "faeb98ec",
   "metadata": {},
   "outputs": [
    {
     "data": {
      "image/png": "[encoded data removed]",
      "text/plain": [
       "<PIL.Image.Image image mode=RGB size=1024x128 at 0x7F0C68C4C340>"
      ]
     },
     "execution_count": 39,
     "metadata": {},
     "output_type": "execute_result"
    }
   ],
   "source": [
    "Image.fromarray(cv2.transpose(np.repeat(dataset[\"valid\"]['dt'][35][..., np.newaxis],3, -1) ))"
   ]
  },
  {
   "cell_type": "code",
   "execution_count": 73,
   "id": "b64a15da",
   "metadata": {},
   "outputs": [
    {
     "data": {
      "image/png": "[encoded data removed]",
      "text/plain": [
       "<PIL.Image.Image image mode=L size=1024x128 at 0x7FA4BA63DF10>"
      ]
     },
     "execution_count": 73,
     "metadata": {},
     "output_type": "execute_result"
    }
   ],
   "source": [
    "Image.fromarray(cv2.transpose(img))"
   ]
  },
  {
   "cell_type": "code",
   "execution_count": null,
   "id": "aabe2fc9",
   "metadata": {},
   "outputs": [],
   "source": [
    "cv2.transpose(img)"
   ]
  },
  {
   "cell_type": "code",
   "execution_count": 14,
   "id": "d31736f9",
   "metadata": {},
   "outputs": [],
   "source": [
    "more = a[771:]"
   ]
  },
  {
   "cell_type": "code",
   "execution_count": 37,
   "id": "494910f8",
   "metadata": {},
   "outputs": [],
   "source": [
    "source = \"../data/rimes.hdf5\"\n",
    "split = \"train\""
   ]
  },
  {
   "cell_type": "code",
   "execution_count": 38,
   "id": "d543487c",
   "metadata": {},
   "outputs": [],
   "source": [
    "dataset = dict()\n",
    "\n",
    "with h5py.File(source, \"r\") as f:\n",
    "    dataset[split] = dict()\n",
    "\n",
    "    dataset[split]['dt'] = np.array(f[split]['dt'])\n",
    "    dataset[split]['gt'] = np.array(f[split]['gt'])\n",
    "\n",
    "    randomize = np.arange(len(dataset[split]['gt']))\n",
    "    np.random.seed(42)\n",
    "    np.random.shuffle(randomize)\n",
    "\n",
    "    dataset[split]['dt'] = dataset[split]['dt'][randomize]\n",
    "    dataset[split]['gt'] = dataset[split]['gt'][randomize]\n",
    "\n",
    "    # decode sentences from byte\n",
    "    dataset[split]['gt'] = [x.decode() for x in dataset[split]['gt']]\n"
   ]
  },
  {
   "cell_type": "code",
   "execution_count": 41,
   "id": "26988fc6",
   "metadata": {},
   "outputs": [
    {
     "data": {
      "text/plain": [
       "10114"
      ]
     },
     "execution_count": 41,
     "metadata": {},
     "output_type": "execute_result"
    }
   ],
   "source": [
    "len(dataset[split]['dt'])"
   ]
  },
  {
   "cell_type": "code",
   "execution_count": 22,
   "id": "3d6baa8a",
   "metadata": {},
   "outputs": [],
   "source": [
    "from PIL import Image"
   ]
  },
  {
   "cell_type": "code",
   "execution_count": 41,
   "id": "85ff13b6",
   "metadata": {},
   "outputs": [
    {
     "name": "stdout",
     "output_type": "stream",
     "text": [
      "761\n"
     ]
    }
   ],
   "source": [
    "for i,v in enumerate(dataset[split]['gt']):\n",
    "    if \"ne quantite importante de\" in unicodedata.normalize(\"NFKD\", v).encode(\"ASCII\", \"ignore\").decode(\"ASCII\"):\n",
    "        print(i)\n",
    "#     Image.fromarray(cv2.transpose(dataset[\"test\"][\"dt\"][1]))"
   ]
  },
  {
   "cell_type": "code",
   "execution_count": 48,
   "id": "53f946ff",
   "metadata": {},
   "outputs": [
    {
     "data": {
      "text/plain": [
       "('le revenu . Je souhaite , a partir de ce jour , opter pour',\n",
       " 'le revenu . Je souhaite , a partir de ce jour , opter pour')"
      ]
     },
     "execution_count": 48,
     "metadata": {},
     "output_type": "execute_result"
    }
   ],
   "source": [
    "gt[769], predicts[769]"
   ]
  },
  {
   "cell_type": "code",
   "execution_count": 46,
   "id": "9d079c57",
   "metadata": {},
   "outputs": [
    {
     "data": {
      "image/png": "[encoded data removed]",
      "text/plain": [
       "<PIL.Image.Image image mode=L size=1024x128 at 0x7F06C481A430>"
      ]
     },
     "execution_count": 46,
     "metadata": {},
     "output_type": "execute_result"
    }
   ],
   "source": [
    "Image.fromarray(cv2.transpose(dataset[\"test\"][\"dt\"][769]))"
   ]
  },
  {
   "cell_type": "code",
   "execution_count": 39,
   "id": "0abc389e",
   "metadata": {},
   "outputs": [
    {
     "data": {
      "text/plain": [
       "array([ 2, 14, 22, 98, 31, 18, 20, 25, 18, 98, 31, 18, 20, 34, 25, 22, 18,\n",
       "       31, 18, 26, 18, 27, 33, 98, 25, 18, 32, 98, 22, 27, 33, 18, 31, 18,\n",
       "       33, 32, 98, 79,  3])"
      ]
     },
     "execution_count": 39,
     "metadata": {},
     "output_type": "execute_result"
    }
   ],
   "source": [
    "tokenizer.encode('ai réglé régulièrement les intérêts .')"
   ]
  },
  {
   "cell_type": "code",
   "execution_count": 40,
   "id": "2afce504",
   "metadata": {},
   "outputs": [
    {
     "data": {
      "text/plain": [
       "'SOSai regle regulierement les interets . EOS'"
      ]
     },
     "execution_count": 40,
     "metadata": {},
     "output_type": "execute_result"
    }
   ],
   "source": [
    "tokenizer.decode([ 2, 14, 22, 98, 31, 18, 20, 25, 18, 98, 31, 18, 20, 34, 25, 22, 18,\n",
    "       31, 18, 26, 18, 27, 33, 98, 25, 18, 32, 98, 22, 27, 33, 18, 31, 18,\n",
    "       33, 32, 98, 79,  3])"
   ]
  },
  {
   "cell_type": "code",
   "execution_count": 69,
   "id": "3d2727bf",
   "metadata": {},
   "outputs": [],
   "source": [
    "img = cv2.imread(\"../raw/iam/lines/b01/b01-000/b01-000-00.png\")"
   ]
  },
  {
   "cell_type": "code",
   "execution_count": 70,
   "id": "cdc897f5",
   "metadata": {},
   "outputs": [],
   "source": [
    "gray = cv2.cvtColor(img, cv2.COLOR_BGR2GRAY)"
   ]
  },
  {
   "cell_type": "code",
   "execution_count": 65,
   "id": "054efc22",
   "metadata": {},
   "outputs": [
    {
     "data": {
      "text/plain": [
       "((140, 1856, 3), (140, 1856))"
      ]
     },
     "execution_count": 65,
     "metadata": {},
     "output_type": "execute_result"
    }
   ],
   "source": [
    "img.shape, gray.shape"
   ]
  },
  {
   "cell_type": "code",
   "execution_count": 58,
   "id": "2bd32dcb",
   "metadata": {},
   "outputs": [],
   "source": [
    "im = pp.preprocess(\"../raw/iam/lines/a04/a04-000/a04-000-00.png\", (1024, 128, 1))"
   ]
  },
  {
   "cell_type": "code",
   "execution_count": 71,
   "id": "f24e7b73",
   "metadata": {},
   "outputs": [],
   "source": [
    "imm = pp.remove_cursive_style(gray)"
   ]
  },
  {
   "cell_type": "code",
   "execution_count": 72,
   "id": "afd5f4ad",
   "metadata": {},
   "outputs": [
    {
     "data": {
      "text/plain": [
       "True"
      ]
     },
     "execution_count": 72,
     "metadata": {},
     "output_type": "execute_result"
    }
   ],
   "source": [
    "cv2.imwrite(\"temp.png\",imm)"
   ]
  },
  {
   "cell_type": "code",
   "execution_count": 54,
   "id": "e6c80224",
   "metadata": {},
   "outputs": [
    {
     "data": {
      "text/plain": [
       "(1024, 128)"
      ]
     },
     "execution_count": 54,
     "metadata": {},
     "output_type": "execute_result"
    }
   ],
   "source": [
    "im.shape"
   ]
  },
  {
   "cell_type": "code",
   "execution_count": null,
   "id": "23c3019b",
   "metadata": {},
   "outputs": [],
   "source": []
  }
 ],
 "metadata": {
  "kernelspec": {
   "display_name": "Python 3 (ipykernel)",
   "language": "python",
   "name": "python3"
  },
  "language_info": {
   "codemirror_mode": {
    "name": "ipython",
    "version": 3
   },
   "file_extension": ".py",
   "mimetype": "text/x-python",
   "name": "python",
   "nbconvert_exporter": "python",
   "pygments_lexer": "ipython3",
   "version": "3.8.12"
  }
 },
 "nbformat": 4,
 "nbformat_minor": 5
}
