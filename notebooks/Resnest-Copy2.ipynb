{
 "cells": [
  {
   "cell_type": "code",
   "execution_count": 1,
   "id": "1e22980e",
   "metadata": {},
   "outputs": [
    {
     "name": "stdout",
     "output_type": "stream",
     "text": [
      "/home/mhamdan/seq2seqAttenHTR/Transformer_ocr/src\n"
     ]
    }
   ],
   "source": [
    "%cd src/\n",
    "from pathlib import Path\n",
    "import numpy as np\n",
    "import math\n",
    "from itertools import groupby\n",
    "import h5py\n",
    "import numpy as np\n",
    "import unicodedata\n",
    "import cv2\n",
    "import torch\n",
    "from torch import nn\n",
    "from torchvision.models import resnet50, resnet101, resnet34, resnet18\n",
    "from torch.autograd import Variable\n",
    "import torchvision\n",
    "from data import preproc as pp\n",
    "from data import evaluation\n",
    "from torch.utils.data import Dataset\n",
    "import time\n",
    "import timm\n",
    "import torch\n",
    "\n",
    "\n",
    "\n",
    "class PositionalEncoding(nn.Module):\n",
    "    def __init__(self, d_model, dropout=0.1, max_len=128):\n",
    "        super(PositionalEncoding, self).__init__()\n",
    "        self.dropout = nn.Dropout(p=dropout)\n",
    "\n",
    "        pe = torch.zeros(max_len, d_model)\n",
    "        position = torch.arange(0, max_len, dtype=torch.float).unsqueeze(1)\n",
    "        div_term = torch.exp(torch.arange(0, d_model, 2).float() * (-math.log(10000.0) / d_model))\n",
    "        pe[:, 0::2] = torch.sin(position * div_term)\n",
    "        pe[:, 1::2] = torch.cos(position * div_term)\n",
    "        pe = pe.unsqueeze(0).transpose(0, 1)\n",
    "        self.register_buffer('pe', pe)\n",
    "\n",
    "    def forward(self, x):\n",
    "        x = x + self.pe[:x.size(0), :]\n",
    "        return self.dropout(x)\n",
    "\n",
    "class OCR(nn.Module):\n",
    "\n",
    "    def __init__(self, vocab_len, hidden_dim, nheads,\n",
    "                 num_encoder_layers, num_decoder_layers):\n",
    "        super().__init__()\n",
    "    \n",
    "#         self.backbone = timm.create_model('ecaresnet101d', pretrained=True,)\n",
    "#         del self.backbone.fc\n",
    "        self.backbone = timm.create_model('resnest101e', pretrained=False)\n",
    "#         self.backbone = timm.create_model('resnest101e', pretrained=args.pretrained)\n",
    "        del self.backbone.fc\n",
    "#         for name,p in self.backbone.named_parameters():\n",
    "#             if \"bn\" not in name or \"attnpool\" in name:\n",
    "#                 p.requires_grad =  FalseFalse\n",
    "\n",
    "        # create a default PyTorch transformer\n",
    "        # create conversion layer\n",
    "        self.conv = nn.Conv2d(2048, hidden_dim, 1)\n",
    "\n",
    "        # create a default PyTorch transformer\n",
    "        self.transformer = nn.Transformer(\n",
    "            hidden_dim, nheads, num_encoder_layers, num_decoder_layers)\n",
    "\n",
    "        # prediction heads with length of vocab\n",
    "        # DETR used basic 3 layer MLP for output\n",
    "        self.vocab = nn.Linear(hidden_dim,vocab_len)\n",
    "\n",
    "        # output positional encodings (object queries)\n",
    "        self.decoder = nn.Embedding(vocab_len, hidden_dim)\n",
    "        self.query_pos = PositionalEncoding(hidden_dim, .2)\n",
    "\n",
    "        # spatial positional encodings, sine positional encoding can be used.\n",
    "        # Detr baseline uses sine positional encoding.\n",
    "        self.row_embed = nn.Parameter(torch.rand(90, hidden_dim // 2))\n",
    "        self.col_embed = nn.Parameter(torch.rand(90, hidden_dim // 2))\n",
    "        self.trg_mask = None\n",
    "  \n",
    "    def generate_square_subsequent_mask(self, sz):\n",
    "        mask = torch.triu(torch.ones(sz, sz), 1)\n",
    "        mask = mask.masked_fill(mask==1, float('-inf'))\n",
    "        return mask\n",
    "    \n",
    "#     def get_feature(self,x):\n",
    "#             x = self.backbone.conv_stem(x)\n",
    "#             x = self.backbone.bn1(x)   \n",
    "#             x = self.backbone.act1(x)\n",
    "#             x = self.backbone.blocks(x)\n",
    "#             return x\n",
    "\n",
    "    def get_feature(self,x):\n",
    "        x = self.backbone.conv1(x)\n",
    "        x = self.backbone.bn1(x)   \n",
    "        x = self.backbone.act1(x)\n",
    "        x = self.backbone.maxpool(x)\n",
    "\n",
    "        x = self.backbone.layer1(x)\n",
    "        x = self.backbone.layer2(x)\n",
    "        x = self.backbone.layer3(x)\n",
    "        x = self.backbone.layer4(x)\n",
    "        return x\n",
    "\n",
    "#     def get_feature(self, x):\n",
    "#         x = self.backbone.forward_features(x)\n",
    "#         return x\n",
    "\n",
    "\n",
    "    def make_len_mask(self, inp):\n",
    "        return (inp == 0).transpose(0, 1)\n",
    "\n",
    "\n",
    "    def forward(self, inputs, trg):\n",
    "        # propagate inputs through ResNet-101 up to avg-pool layer\n",
    "        x = self.get_feature(inputs)\n",
    "\n",
    "        # convert from 2048 to 256 feature planes for the transformer\n",
    "        h = self.conv(x)\n",
    "\n",
    "        # construct positional encodings\n",
    "        bs,_,H, W = h.shape\n",
    "        pos = torch.cat([\n",
    "            self.col_embed[:W].unsqueeze(0).repeat(H, 1, 1),\n",
    "            self.row_embed[:H].unsqueeze(1).repeat(1, W, 1),\n",
    "        ], dim=-1).flatten(0, 1).unsqueeze(1)\n",
    "\n",
    "        # generating subsequent mask for target\n",
    "        if self.trg_mask is None or self.trg_mask.size(0) != len(trg):\n",
    "            self.trg_mask = self.generate_square_subsequent_mask(trg.shape[1]).to(trg.device)\n",
    "\n",
    "        # Padding mask\n",
    "        trg_pad_mask = self.make_len_mask(trg)\n",
    "\n",
    "        # Getting postional encoding for target\n",
    "        trg = self.decoder(trg)\n",
    "        trg = self.query_pos(trg)\n",
    "        \n",
    "        output = self.transformer(pos + 0.1 * h.flatten(2).permute(2, 0, 1), trg.permute(1,0,2), tgt_mask=self.trg_mask, \n",
    "                                  tgt_key_padding_mask=trg_pad_mask.permute(1,0))\n",
    "\n",
    "        return self.vocab(output.transpose(0,1))\n",
    "\n",
    "\n",
    "def make_model(vocab_len, hidden_dim=256, nheads=4,\n",
    "                 num_encoder_layers=4, num_decoder_layers=4):\n",
    "    \n",
    "    return OCR(vocab_len, hidden_dim, nheads,\n",
    "                 num_encoder_layers, num_decoder_layers)\n",
    "\n",
    "\"\"\"\n",
    "Uses generator functions to supply train/test with data.\n",
    "Image renderings and text are created on the fly each time.\n",
    "\"\"\"\n",
    "\n",
    "class DataGenerator(Dataset):\n",
    "    \"\"\"Generator class with data streaming\"\"\"\n",
    "\n",
    "    def __init__(self, source, split, transform, tokenizer):\n",
    "        self.tokenizer = tokenizer\n",
    "        self.transform = transform\n",
    "        \n",
    "        self.split = split\n",
    "        self.dataset = dict()\n",
    "\n",
    "        with h5py.File(source, \"r\") as f:\n",
    "            self.dataset[self.split] = dict()\n",
    "\n",
    "            self.dataset[self.split]['dt'] = np.array(f[self.split]['dt'])\n",
    "            self.dataset[self.split]['gt'] = np.array(f[self.split]['gt'])\n",
    "          \n",
    "            randomize = np.arange(len(self.dataset[self.split]['gt']))\n",
    "            np.random.seed(42)\n",
    "            np.random.shuffle(randomize)\n",
    "\n",
    "            self.dataset[self.split]['dt'] = self.dataset[self.split]['dt'][randomize]\n",
    "            self.dataset[self.split]['gt'] = self.dataset[self.split]['gt'][randomize]\n",
    "\n",
    "            # decode sentences from byte\n",
    "            self.dataset[self.split]['gt'] = [x.decode() for x in self.dataset[self.split]['gt']]\n",
    "            \n",
    "        self.size = len(self.dataset[self.split]['gt'])\n",
    "\n",
    "\n",
    "    def __getitem__(self, i):\n",
    "        img = self.dataset[self.split]['dt'][i]\n",
    "        \n",
    "        #making image compatible with resnet\n",
    "#         img = cv2.transpose(img)\n",
    "        img = np.repeat(img[..., np.newaxis],3, -1).astype(\"float32\")   \n",
    "#         img = pp.normalization(img).astype(\"float32\")\n",
    "\n",
    "        if self.transform is not None:\n",
    "            aug = self.transform(image=img)\n",
    "            img = aug['image']\n",
    "            \n",
    "#             img = self.transform(img)\n",
    "            \n",
    "        y_train = self.tokenizer.encode(self.dataset[self.split]['gt'][i]) \n",
    "        \n",
    "        #padding till max length\n",
    "        y_train = np.pad(y_train, (0, self.tokenizer.maxlen - len(y_train)))\n",
    "\n",
    "        gt = torch.Tensor(y_train)\n",
    "\n",
    "        return img, gt          \n",
    "\n",
    "    def __len__(self):\n",
    "      return self.size\n",
    "\n",
    "class Tokenizer():\n",
    "    \"\"\"Manager tokens functions and charset/dictionary properties\"\"\"\n",
    "\n",
    "    def __init__(self, chars, max_text_length=128):\n",
    "        self.PAD_TK, self.UNK_TK,self.SOS,self.EOS = \"¶\", \"¤\", \"SOS\", \"EOS\"\n",
    "        self.chars = [self.PAD_TK] + [self.UNK_TK ]+ [self.SOS] + [self.EOS] +list(chars)\n",
    "        self.PAD = self.chars.index(self.PAD_TK)\n",
    "        self.UNK = self.chars.index(self.UNK_TK)\n",
    "\n",
    "        self.vocab_size = len(self.chars)\n",
    "        self.maxlen = max_text_length\n",
    "\n",
    "    def encode(self, text):\n",
    "        \"\"\"Encode text to vector\"\"\"\n",
    "        text = unicodedata.normalize(\"NFKD\", text).encode(\"ASCII\", \"ignore\").decode(\"ASCII\")\n",
    "        text = \" \".join(text.split())\n",
    "\n",
    "        groups = [\"\".join(group) for _, group in groupby(text)]\n",
    "        text = \"\".join([self.UNK_TK.join(list(x)) if len(x) > 1 else x for x in groups])\n",
    "        encoded = []\n",
    "\n",
    "        text = ['SOS'] + list(text) + ['EOS']\n",
    "        for item in text:\n",
    "            index = self.chars.index(item)\n",
    "            index = self.UNK if index == -1 else index\n",
    "            encoded.append(index)\n",
    "\n",
    "        return np.asarray(encoded)\n",
    "\n",
    "    def decode(self, text):\n",
    "        \"\"\"Decode vector to text\"\"\"\n",
    "        \n",
    "        decoded = \"\".join([self.chars[int(x)] for x in text if x > -1])\n",
    "        decoded = self.remove_tokens(decoded)\n",
    "        decoded = pp.text_standardize(decoded)\n",
    "\n",
    "        return decoded\n",
    "\n",
    "    def remove_tokens(self, text):\n",
    "        \"\"\"Remove tokens (PAD) from text\"\"\"\n",
    "\n",
    "        return text.replace(self.PAD_TK, \"\").replace(self.UNK_TK, \"\")"
   ]
  },
  {
   "cell_type": "code",
   "execution_count": 2,
   "id": "783faa8a",
   "metadata": {},
   "outputs": [
    {
     "name": "stdout",
     "output_type": "stream",
     "text": [
      "source: ../data/rimes.hdf5\n",
      "output ../output/rimes\n",
      "target ../output/rimes/checkpoint_weights_iam_dsa.hdf5\n",
      "charset: 0123456789abcdefghijklmnopqrstuvwxyzABCDEFGHIJKLMNOPQRSTUVWXYZ!\"#$%&'()*+,-./:;<=>?@[\\]^_`{|}~ \n"
     ]
    }
   ],
   "source": [
    "import os\n",
    "import datetime\n",
    "import string\n",
    "\n",
    "batch_size = 16\n",
    "epochs = 200\n",
    "\n",
    "# define paths\n",
    "#change paths accordingly\n",
    "source = 'rimes'\n",
    "source_path = '../data/{}.hdf5'.format(source)\n",
    "output_path = os.path.join(\"..\", \"output\", source)\n",
    "target_path = os.path.join(output_path, \"checkpoint_weights_iam_{}.hdf5\".format(\"dsa\"))\n",
    "os.makedirs(output_path, exist_ok=True)\n",
    "\n",
    "# define input size, number max of chars per line and list of valid chars\n",
    "input_size = (1024, 128, 1)\n",
    "max_text_length = 128\n",
    "charset_base = string.printable[:95]\n",
    "# charset_base = string.printable[:36].lower() + string.printable[36+26:95].lower() \n",
    "\n",
    "print(\"source:\", source_path)\n",
    "print(\"output\", output_path)\n",
    "print(\"target\", target_path)\n",
    "print(\"charset:\", charset_base)\n",
    "\n",
    "import torchvision.transforms as T\n",
    "local_rank = 1\n",
    "device = torch.device(\"cuda:{}\".format(local_rank))\n",
    "\n",
    "# transform = T.Compose([\n",
    "#     T.ToTensor()])\n",
    "tokenizer = Tokenizer(charset_base)\n",
    "import albumentations\n",
    "import albumentations.pytorch\n",
    "\n",
    "\n",
    "\n",
    "transform_valid = albumentations.Compose(\n",
    "    [\n",
    "        albumentations.Normalize(),\n",
    "        albumentations.pytorch.ToTensorV2()\n",
    "    ]\n",
    ")"
   ]
  },
  {
   "cell_type": "code",
   "execution_count": 3,
   "id": "f8f5cbbe",
   "metadata": {},
   "outputs": [],
   "source": [
    "tokenizer = Tokenizer(charset_base)"
   ]
  },
  {
   "cell_type": "code",
   "execution_count": 18,
   "id": "db6e7a76",
   "metadata": {},
   "outputs": [],
   "source": [
    "model_name = \"wandering-cloud-196\"\n",
    "databse = source\n",
    "\n",
    "d = torch.load(\"/home/mhamdan/seq2seqAttenHTR/Transformer_ocr/output/{}/{}_first_100.pt\".format(model_name,databse), map_location=\"cuda:0\")\n",
    "d1 = torch.load(\"/home/mhamdan/seq2seqAttenHTR/Transformer_ocr/output/{}/{}_first_180.pt\".format(model_name,databse), map_location=\"cuda:0\")"
   ]
  },
  {
   "cell_type": "code",
   "execution_count": 7,
   "id": "034f4258",
   "metadata": {
    "scrolled": true
   },
   "outputs": [],
   "source": [
    "d = torch.load(\"/home/mhamdan/seq2seqAttenHTR/Transformer_ocr/output/wandering-cloud-196/rimes_firstbest_loss.pt\", map_location=\"cuda:1\")"
   ]
  },
  {
   "cell_type": "code",
   "execution_count": 19,
   "id": "2d2ecb62",
   "metadata": {},
   "outputs": [
    {
     "data": {
      "text/plain": [
       "<All keys matched successfully>"
      ]
     },
     "execution_count": 19,
     "metadata": {},
     "output_type": "execute_result"
    }
   ],
   "source": [
    "f = {}\n",
    "for i in d:\n",
    "    f[i.replace(\"module.\",\"\")] = d[i]\n",
    "\n",
    "model.load_state_dict(f)"
   ]
  },
  {
   "cell_type": "code",
   "execution_count": 14,
   "id": "50b50345",
   "metadata": {},
   "outputs": [],
   "source": [
    "def get_memory(model,imgs):\n",
    "    x = model.conv(model.get_feature(imgs))\n",
    "    bs,_,H, W = x.shape\n",
    "    pos = torch.cat([\n",
    "            model.col_embed[:W].unsqueeze(0).repeat(H, 1, 1),\n",
    "            model.row_embed[:H].unsqueeze(1).repeat(1, W, 1),\n",
    "        ], dim=-1).flatten(0, 1).unsqueeze(1)\n",
    "\n",
    "    return model.transformer.encoder(pos +  0.1 * x.flatten(2).permute(2, 0, 1))\n",
    "    \n",
    "\n",
    "def test(model, test_loader, max_text_length):\n",
    "    model.eval()\n",
    "    predicts = []\n",
    "    gt = []\n",
    "    imgs = []\n",
    "    c=0\n",
    "    with torch.no_grad():\n",
    "        for batch in test_loader:\n",
    "            src, trg = batch\n",
    "            imgs.append(src.flatten(0,1))\n",
    "            src, trg = src.to(device), trg.to(device)            \n",
    "            memory = get_memory(model,src.float())\n",
    "            out_indexes = [tokenizer.chars.index('SOS'), ]\n",
    "            for i in range(max_text_length):\n",
    "                mask = model.generate_square_subsequent_mask(i+1).to(device)\n",
    "                trg_tensor = torch.LongTensor(out_indexes).unsqueeze(1).to(device)\n",
    "                output = model.vocab(model.transformer.decoder(model.query_pos(model.decoder(trg_tensor)), memory,tgt_mask=mask))\n",
    "                out_token = output.argmax(2)[-1].item()\n",
    "                out_indexes.append(out_token)\n",
    "                if out_token == tokenizer.chars.index('EOS'):\n",
    "                    break\n",
    "            predicts.append(tokenizer.decode(out_indexes))\n",
    "            gt.append(tokenizer.decode(trg.flatten(0,1)))\n",
    "#             if c==1:\n",
    "#                 break\n",
    "            c+=1\n",
    "    return predicts, gt, imgs"
   ]
  },
  {
   "cell_type": "code",
   "execution_count": 10,
   "id": "d1865a19",
   "metadata": {},
   "outputs": [],
   "source": [
    "test_loader = torch.utils.data.DataLoader(DataGenerator(source_path,'test',transform_valid, tokenizer), batch_size=1, shuffle=False, num_workers=6)"
   ]
  },
  {
   "cell_type": "code",
   "execution_count": 20,
   "id": "069b62fb",
   "metadata": {
    "scrolled": true
   },
   "outputs": [],
   "source": [
    "predicts, gt, imgs = test(model,test_loader , max_text_length)"
   ]
  },
  {
   "cell_type": "code",
   "execution_count": 21,
   "id": "04dec56a",
   "metadata": {},
   "outputs": [],
   "source": [
    "predicts = list(map(lambda x : x.replace('SOS','').replace('EOS',''),predicts))\n",
    "gt = list(map(lambda x : x.replace('SOS','').replace('EOS',''),gt))\n",
    "\n",
    "evaluate = evaluation.ocr_metrics(predicts=predicts,\n",
    "                                  ground_truth=gt,)"
   ]
  },
  {
   "cell_type": "code",
   "execution_count": 17,
   "id": "aad50f79",
   "metadata": {},
   "outputs": [
    {
     "data": {
      "text/plain": [
       "array([0.0425939 , 0.10930619, 0.43450065])"
      ]
     },
     "execution_count": 17,
     "metadata": {},
     "output_type": "execute_result"
    }
   ],
   "source": [
    "evaluate"
   ]
  },
  {
   "cell_type": "code",
   "execution_count": 22,
   "id": "ce77cb05",
   "metadata": {},
   "outputs": [
    {
     "data": {
      "text/plain": [
       "array([0.04242721, 0.11041653, 0.461738  ])"
      ]
     },
     "execution_count": 22,
     "metadata": {},
     "output_type": "execute_result"
    }
   ],
   "source": [
    "evaluate"
   ]
  },
  {
   "cell_type": "code",
   "execution_count": 21,
   "id": "817315dd",
   "metadata": {},
   "outputs": [
    {
     "data": {
      "text/plain": [
       "array([0.80593583, 0.95730711, 1.        ])"
      ]
     },
     "execution_count": 21,
     "metadata": {},
     "output_type": "execute_result"
    }
   ],
   "source": [
    "evaluate"
   ]
  },
  {
   "cell_type": "code",
   "execution_count": 26,
   "id": "2e059db5",
   "metadata": {},
   "outputs": [
    {
     "data": {
      "text/plain": [
       "array([0.69395267, 0.87707289, 1.        ])"
      ]
     },
     "execution_count": 26,
     "metadata": {},
     "output_type": "execute_result"
    }
   ],
   "source": [
    "evaluate"
   ]
  },
  {
   "cell_type": "code",
   "execution_count": 31,
   "id": "722f0b33",
   "metadata": {},
   "outputs": [],
   "source": [
    "# use lists to store the outputs via up-values\n",
    "conv_features, enc_attn_weights, dec_attn_weights = [], [], []\n",
    "\n",
    "hooks = [\n",
    "    model.backbone.register_forward_hook(\n",
    "        lambda self, input, output: conv_features.append(output)\n",
    "    ),\n",
    "    model.transformer.encoder.layers[-1].self_attn.register_forward_hook(\n",
    "        lambda self, input, output: enc_attn_weights.append(output[1])\n",
    "    ),\n",
    "    model.transformer.decoder.layers[-1].multihead_attn.register_forward_hook(\n",
    "        lambda self, input, output: dec_attn_weights.append(output[1])\n",
    "    ),\n",
    "]"
   ]
  },
  {
   "cell_type": "code",
   "execution_count": 32,
   "id": "8ff44ef6",
   "metadata": {
    "scrolled": true
   },
   "outputs": [],
   "source": [
    "for batch in test_loader:\n",
    "        \n",
    "    # propagate through the model\n",
    "    outputs = model(batch[0].to(device),batch[1].to(device).long())\n",
    "    break"
   ]
  },
  {
   "cell_type": "code",
   "execution_count": 88,
   "id": "f76e1782",
   "metadata": {},
   "outputs": [
    {
     "data": {
      "text/plain": [
       "'SOSJe vous serais reconnaissante de bien vouloir prendreEOS'"
      ]
     },
     "execution_count": 88,
     "metadata": {},
     "output_type": "execute_result"
    }
   ],
   "source": [
    "tokenizer.decode(batch[1][0])"
   ]
  },
  {
   "cell_type": "code",
   "execution_count": 29,
   "id": "4572e0b9",
   "metadata": {
    "scrolled": true
   },
   "outputs": [
    {
     "data": {
      "text/plain": [
       "torch.Size([1, 2048, 32, 4])"
      ]
     },
     "execution_count": 29,
     "metadata": {},
     "output_type": "execute_result"
    }
   ],
   "source": [
    "img = model.get_feature(batch[0].to(device))\n",
    "\n",
    "img.shape"
   ]
  },
  {
   "cell_type": "code",
   "execution_count": 69,
   "id": "e0824f64",
   "metadata": {
    "scrolled": true
   },
   "outputs": [
    {
     "data": {
      "image/png": "[encoded data removed]",
      "text/plain": [
       "<Figure size 2304x288 with 10 Axes>"
      ]
     },
     "metadata": {
      "needs_background": "light"
     },
     "output_type": "display_data"
    }
   ],
   "source": [
    "import matplotlib.pyplot as plt\n",
    "\n",
    "n = 5\n",
    "m = 2\n",
    "fig, axs = plt.subplots(m, n, figsize=(32, 4))\n",
    "for i in range(n*m):\n",
    "    axs[i//n, i%n].imshow(dec_attn_weights[0][0,i].cpu().view(32, 4).detach().numpy())\n",
    "    axs[i//n,i%n].set_title(f'character postion: {i}')    \n",
    "    axs[i//n,i%n].axis('off')\n",
    "    \n",
    "fig.tight_layout()"
   ]
  },
  {
   "cell_type": "code",
   "execution_count": 95,
   "id": "bdb99488",
   "metadata": {},
   "outputs": [],
   "source": [
    "imj = []\n",
    "for i in range(128):\n",
    "    imj.append(dec_attn_weights[0][0,i].cpu().view(32, 4).detach().numpy())"
   ]
  },
  {
   "cell_type": "code",
   "execution_count": 96,
   "id": "bec2e446",
   "metadata": {},
   "outputs": [
    {
     "data": {
      "text/plain": [
       "(-0.5, 511.5, 31.5, -0.5)"
      ]
     },
     "execution_count": 96,
     "metadata": {},
     "output_type": "execute_result"
    },
    {
     "data": {
      "image/png": "[encoded data removed]",
      "text/plain": [
       "<Figure size 432x288 with 1 Axes>"
      ]
     },
     "metadata": {
      "needs_background": "light"
     },
     "output_type": "display_data"
    }
   ],
   "source": [
    "plt.imshow(np.concatenate(imj, axis=1))\n",
    "plt.axis(\"off\")"
   ]
  },
  {
   "cell_type": "code",
   "execution_count": 92,
   "id": "4a30157f",
   "metadata": {},
   "outputs": [
    {
     "data": {
      "text/plain": [
       "array([[3.51740628e-01, 4.92929220e-01, 3.52041470e-03, ...,\n",
       "        4.50354476e-10, 1.24348656e-08, 4.64251525e-06],\n",
       "       [1.47629008e-01, 1.94809493e-03, 2.59518216e-04, ...,\n",
       "        2.23096785e-09, 4.69018602e-09, 1.90117189e-09],\n",
       "       [5.46557305e-04, 8.41140165e-04, 5.94722151e-05, ...,\n",
       "        8.11853570e-11, 1.26824884e-09, 1.44864495e-10],\n",
       "       ...,\n",
       "       [3.45986386e-08, 2.75609047e-08, 2.58543878e-07, ...,\n",
       "        2.85090118e-05, 7.77380119e-05, 4.83327955e-02],\n",
       "       [1.56157526e-07, 4.45209380e-08, 2.71629261e-07, ...,\n",
       "        7.67962483e-04, 3.71921342e-04, 9.31438059e-02],\n",
       "       [1.38425955e-08, 2.25711561e-09, 1.10379546e-08, ...,\n",
       "        3.12295812e-03, 5.92185371e-02, 7.12746561e-01]], dtype=float32)"
      ]
     },
     "execution_count": 92,
     "metadata": {},
     "output_type": "execute_result"
    }
   ],
   "source": [
    "jj"
   ]
  },
  {
   "cell_type": "code",
   "execution_count": 78,
   "id": "3fa6850e",
   "metadata": {},
   "outputs": [],
   "source": [
    "jj = np.concatenate(imj, axis=1)"
   ]
  },
  {
   "cell_type": "code",
   "execution_count": 79,
   "id": "a1c76748",
   "metadata": {},
   "outputs": [
    {
     "data": {
      "text/plain": [
       "(32, 228)"
      ]
     },
     "execution_count": 79,
     "metadata": {},
     "output_type": "execute_result"
    }
   ],
   "source": [
    "jj.shape"
   ]
  },
  {
   "cell_type": "code",
   "execution_count": 65,
   "id": "4f6aa629",
   "metadata": {},
   "outputs": [],
   "source": [
    "img = pp.preprocess(\"../raw/iam/lines/b01/b01-000/b01-000-00.png\", input_size=(1024,128,1))"
   ]
  },
  {
   "cell_type": "code",
   "execution_count": 67,
   "id": "b871e8c1",
   "metadata": {},
   "outputs": [],
   "source": [
    "def pre(path, input_size):\n",
    "    img = cv2.imread(path, cv2.IMREAD_UNCHANGED)\n",
    "    wt, ht, _ = input_size\n",
    "    h, w = img.shape\n",
    "    f = max((w / wt), (h / ht))\n",
    "    new_size = (max(min(wt, int(w / f)), 1), max(min(ht, int(h / f)), 1))\n",
    "\n",
    "    img = cv2.resize(img, new_size)\n",
    "    img = pp.illumination_compensation(img)\n",
    "    img = pp.remove_cursive_style(img)\n",
    "    img = cv2.resize(img, new_size)\n",
    "    target = np.ones([ht, wt], dtype=np.uint8) * 255\n",
    "    target[0:new_size[1], 0:new_size[0]] = img\n",
    "    return target"
   ]
  },
  {
   "cell_type": "code",
   "execution_count": 68,
   "id": "e549809a",
   "metadata": {},
   "outputs": [],
   "source": [
    "img = pre(\"../raw/iam/lines/b01/b01-000/b01-000-00.png\", input_size=(1024,128,1))"
   ]
  },
  {
   "cell_type": "code",
   "execution_count": 12,
   "id": "89b3bf63",
   "metadata": {},
   "outputs": [],
   "source": [
    "dataset = {}\n",
    "with h5py.File(\"../data/washington_olf.hdf5\", \"r\") as f:\n",
    "    dataset[\"valid\"] = dict()\n",
    "\n",
    "    dataset[\"valid\"]['dt'] = np.array(f[\"valid\"]['dt'])\n",
    "    dataset[\"valid\"]['gt'] = np.array(f[\"valid\"]['gt'])\n"
   ]
  },
  {
   "cell_type": "code",
   "execution_count": 14,
   "id": "e6e97e97",
   "metadata": {},
   "outputs": [
    {
     "data": {
      "text/plain": [
       "array([[255, 255, 255, ..., 255, 255, 255],\n",
       "       [255, 255, 255, ..., 255, 255, 255],\n",
       "       [255, 255, 255, ..., 255, 255, 255],\n",
       "       ...,\n",
       "       [255, 255, 255, ..., 255, 255, 255],\n",
       "       [255, 255, 255, ..., 255, 255, 255],\n",
       "       [255, 255, 255, ..., 255, 255, 255]], dtype=uint8)"
      ]
     },
     "execution_count": 14,
     "metadata": {},
     "output_type": "execute_result"
    }
   ],
   "source": [
    "dataset[\"valid\"][\"dt\"][0]"
   ]
  },
  {
   "cell_type": "code",
   "execution_count": 13,
   "id": "faeb98ec",
   "metadata": {},
   "outputs": [
    {
     "ename": "NameError",
     "evalue": "name 'Image' is not defined",
     "output_type": "error",
     "traceback": [
      "\u001b[0;31m---------------------------------------------------------------------------\u001b[0m",
      "\u001b[0;31mNameError\u001b[0m                                 Traceback (most recent call last)",
      "\u001b[0;32m/tmp/ipykernel_30980/2146852587.py\u001b[0m in \u001b[0;36m<module>\u001b[0;34m\u001b[0m\n\u001b[0;32m----> 1\u001b[0;31m \u001b[0mImage\u001b[0m\u001b[0;34m.\u001b[0m\u001b[0mfromarray\u001b[0m\u001b[0;34m(\u001b[0m\u001b[0mcv2\u001b[0m\u001b[0;34m.\u001b[0m\u001b[0mtranspose\u001b[0m\u001b[0;34m(\u001b[0m\u001b[0mnp\u001b[0m\u001b[0;34m.\u001b[0m\u001b[0mrepeat\u001b[0m\u001b[0;34m(\u001b[0m\u001b[0mdataset\u001b[0m\u001b[0;34m[\u001b[0m\u001b[0;34m\"valid\"\u001b[0m\u001b[0;34m]\u001b[0m\u001b[0;34m[\u001b[0m\u001b[0;34m'dt'\u001b[0m\u001b[0;34m]\u001b[0m\u001b[0;34m[\u001b[0m\u001b[0;36m35\u001b[0m\u001b[0;34m]\u001b[0m\u001b[0;34m[\u001b[0m\u001b[0;34m...\u001b[0m\u001b[0;34m,\u001b[0m \u001b[0mnp\u001b[0m\u001b[0;34m.\u001b[0m\u001b[0mnewaxis\u001b[0m\u001b[0;34m]\u001b[0m\u001b[0;34m,\u001b[0m\u001b[0;36m3\u001b[0m\u001b[0;34m,\u001b[0m \u001b[0;34m-\u001b[0m\u001b[0;36m1\u001b[0m\u001b[0;34m)\u001b[0m \u001b[0;34m)\u001b[0m\u001b[0;34m)\u001b[0m\u001b[0;34m\u001b[0m\u001b[0;34m\u001b[0m\u001b[0m\n\u001b[0m",
      "\u001b[0;31mNameError\u001b[0m: name 'Image' is not defined"
     ]
    }
   ],
   "source": [
    "Image.fromarray(cv2.transpose(np.repeat(dataset[\"valid\"]['dt'][35][..., np.newaxis],3, -1) ))"
   ]
  },
  {
   "cell_type": "code",
   "execution_count": 73,
   "id": "b64a15da",
   "metadata": {},
   "outputs": [
    {
     "data": {
      "image/png": "[encoded data removed]",
      "text/plain": [
       "<PIL.Image.Image image mode=L size=1024x128 at 0x7FA4BA63DF10>"
      ]
     },
     "execution_count": 73,
     "metadata": {},
     "output_type": "execute_result"
    }
   ],
   "source": [
    "Image.fromarray(cv2.transpose(img))"
   ]
  },
  {
   "cell_type": "code",
   "execution_count": null,
   "id": "aabe2fc9",
   "metadata": {},
   "outputs": [],
   "source": [
    "cv2.transpose(img)"
   ]
  },
  {
   "cell_type": "code",
   "execution_count": 13,
   "id": "f53505e0",
   "metadata": {
    "scrolled": true
   },
   "outputs": [],
   "source": [
    "import json\n",
    "# with open(\"pre.json\",\"w\") as f:\n",
    "#     json.dump(less+ more, f)\n",
    "    \n",
    "with open(\"pre.json\",\"r\") as f:\n",
    "    a= json.load(f)"
   ]
  },
  {
   "cell_type": "code",
   "execution_count": 37,
   "id": "494910f8",
   "metadata": {},
   "outputs": [],
   "source": [
    "source = \"../data/rimes.hdf5\"\n",
    "split = \"train\""
   ]
  },
  {
   "cell_type": "code",
   "execution_count": 38,
   "id": "d543487c",
   "metadata": {},
   "outputs": [],
   "source": [
    "dataset = dict()\n",
    "\n",
    "with h5py.File(source, \"r\") as f:\n",
    "    dataset[split] = dict()\n",
    "\n",
    "    dataset[split]['dt'] = np.array(f[split]['dt'])\n",
    "    dataset[split]['gt'] = np.array(f[split]['gt'])\n",
    "\n",
    "    randomize = np.arange(len(dataset[split]['gt']))\n",
    "    np.random.seed(42)\n",
    "    np.random.shuffle(randomize)\n",
    "\n",
    "    dataset[split]['dt'] = dataset[split]['dt'][randomize]\n",
    "    dataset[split]['gt'] = dataset[split]['gt'][randomize]\n",
    "\n",
    "    # decode sentences from byte\n",
    "    dataset[split]['gt'] = [x.decode() for x in dataset[split]['gt']]\n"
   ]
  },
  {
   "cell_type": "code",
   "execution_count": 41,
   "id": "26988fc6",
   "metadata": {},
   "outputs": [
    {
     "data": {
      "text/plain": [
       "10114"
      ]
     },
     "execution_count": 41,
     "metadata": {},
     "output_type": "execute_result"
    }
   ],
   "source": [
    "len(dataset[split]['dt'])"
   ]
  },
  {
   "cell_type": "code",
   "execution_count": 22,
   "id": "3d6baa8a",
   "metadata": {},
   "outputs": [],
   "source": [
    "from PIL import Image"
   ]
  },
  {
   "cell_type": "code",
   "execution_count": 41,
   "id": "85ff13b6",
   "metadata": {},
   "outputs": [
    {
     "name": "stdout",
     "output_type": "stream",
     "text": [
      "761\n"
     ]
    }
   ],
   "source": [
    "for i,v in enumerate(dataset[split]['gt']):\n",
    "    if \"ne quantite importante de\" in unicodedata.normalize(\"NFKD\", v).encode(\"ASCII\", \"ignore\").decode(\"ASCII\"):\n",
    "        print(i)\n",
    "#     Image.fromarray(cv2.transpose(dataset[\"test\"][\"dt\"][1]))"
   ]
  },
  {
   "cell_type": "code",
   "execution_count": 46,
   "id": "9d079c57",
   "metadata": {},
   "outputs": [
    {
     "data": {
      "image/png": "[encoded data removed]",
      "text/plain": [
       "<PIL.Image.Image image mode=L size=1024x128 at 0x7F06C481A430>"
      ]
     },
     "execution_count": 46,
     "metadata": {},
     "output_type": "execute_result"
    }
   ],
   "source": [
    "Image.fromarray(cv2.transpose(dataset[\"test\"][\"dt\"][769]))"
   ]
  },
  {
   "cell_type": "code",
   "execution_count": 39,
   "id": "0abc389e",
   "metadata": {},
   "outputs": [
    {
     "data": {
      "text/plain": [
       "array([ 2, 14, 22, 98, 31, 18, 20, 25, 18, 98, 31, 18, 20, 34, 25, 22, 18,\n",
       "       31, 18, 26, 18, 27, 33, 98, 25, 18, 32, 98, 22, 27, 33, 18, 31, 18,\n",
       "       33, 32, 98, 79,  3])"
      ]
     },
     "execution_count": 39,
     "metadata": {},
     "output_type": "execute_result"
    }
   ],
   "source": [
    "tokenizer.encode('ai réglé régulièrement les intérêts .')"
   ]
  },
  {
   "cell_type": "code",
   "execution_count": 40,
   "id": "2afce504",
   "metadata": {},
   "outputs": [
    {
     "data": {
      "text/plain": [
       "'SOSai regle regulierement les interets . EOS'"
      ]
     },
     "execution_count": 40,
     "metadata": {},
     "output_type": "execute_result"
    }
   ],
   "source": [
    "tokenizer.decode([ 2, 14, 22, 98, 31, 18, 20, 25, 18, 98, 31, 18, 20, 34, 25, 22, 18,\n",
    "       31, 18, 26, 18, 27, 33, 98, 25, 18, 32, 98, 22, 27, 33, 18, 31, 18,\n",
    "       33, 32, 98, 79,  3])"
   ]
  },
  {
   "cell_type": "code",
   "execution_count": 69,
   "id": "3d2727bf",
   "metadata": {},
   "outputs": [],
   "source": [
    "img = cv2.imread(\"../raw/iam/lines/b01/b01-000/b01-000-00.png\")"
   ]
  },
  {
   "cell_type": "code",
   "execution_count": 70,
   "id": "cdc897f5",
   "metadata": {},
   "outputs": [],
   "source": [
    "gray = cv2.cvtColor(img, cv2.COLOR_BGR2GRAY)"
   ]
  },
  {
   "cell_type": "code",
   "execution_count": 65,
   "id": "054efc22",
   "metadata": {},
   "outputs": [
    {
     "data": {
      "text/plain": [
       "((140, 1856, 3), (140, 1856))"
      ]
     },
     "execution_count": 65,
     "metadata": {},
     "output_type": "execute_result"
    }
   ],
   "source": [
    "img.shape, gray.shape"
   ]
  },
  {
   "cell_type": "code",
   "execution_count": 58,
   "id": "2bd32dcb",
   "metadata": {},
   "outputs": [],
   "source": [
    "im = pp.preprocess(\"../raw/iam/lines/a04/a04-000/a04-000-00.png\", (1024, 128, 1))"
   ]
  },
  {
   "cell_type": "code",
   "execution_count": 71,
   "id": "f24e7b73",
   "metadata": {},
   "outputs": [],
   "source": [
    "imm = pp.remove_cursive_style(gray)"
   ]
  },
  {
   "cell_type": "code",
   "execution_count": 72,
   "id": "afd5f4ad",
   "metadata": {},
   "outputs": [
    {
     "data": {
      "text/plain": [
       "True"
      ]
     },
     "execution_count": 72,
     "metadata": {},
     "output_type": "execute_result"
    }
   ],
   "source": [
    "cv2.imwrite(\"temp.png\",imm)"
   ]
  },
  {
   "cell_type": "code",
   "execution_count": 54,
   "id": "e6c80224",
   "metadata": {},
   "outputs": [
    {
     "data": {
      "text/plain": [
       "(1024, 128)"
      ]
     },
     "execution_count": 54,
     "metadata": {},
     "output_type": "execute_result"
    }
   ],
   "source": [
    "im.shape"
   ]
  }
 ],
 "metadata": {
  "kernelspec": {
   "display_name": "Python 3 (ipykernel)",
   "language": "python",
   "name": "python3"
  },
  "language_info": {
   "codemirror_mode": {
    "name": "ipython",
    "version": 3
   },
   "file_extension": ".py",
   "mimetype": "text/x-python",
   "name": "python",
   "nbconvert_exporter": "python",
   "pygments_lexer": "ipython3",
   "version": "3.8.12"
  }
 },
 "nbformat": 4,
 "nbformat_minor": 5
}
